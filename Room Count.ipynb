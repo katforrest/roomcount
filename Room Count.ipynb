{
 "cells": [
  {
   "cell_type": "code",
   "execution_count": 1,
   "id": "587db9a1",
   "metadata": {},
   "outputs": [],
   "source": [
    "table = [[1,1,0,0],[1,0,0,0],[0,0,1,0]]"
   ]
  },
  {
   "cell_type": "code",
   "execution_count": 2,
   "id": "bf4083de",
   "metadata": {},
   "outputs": [],
   "source": [
    "rooms = 0\n",
    "x = 0\n",
    "y = 0\n",
    "value = table[x][y]\n",
    "yleft=0\n",
    "xup=0\n",
    "xrange=0\n",
    "for row in table:\n",
    "    xrange+=1\n",
    "yrange=len(table[0])   "
   ]
  },
  {
   "cell_type": "code",
   "execution_count": 3,
   "id": "e490ec7c",
   "metadata": {},
   "outputs": [
    {
     "name": "stdout",
     "output_type": "stream",
     "text": [
      "2\n"
     ]
    }
   ],
   "source": [
    "x = 0\n",
    "y = 0\n",
    "for a in range(xrange):\n",
    "    for b in range(yrange):\n",
    "        value = table[x][y]\n",
    "        if value == 1:\n",
    "            yleft = (y-1)\n",
    "            previousleftvalue = table[x][yleft]\n",
    "            if previousleftvalue == 0:\n",
    "                xup = (x-1)\n",
    "                previousupvalue = table[xup][y]\n",
    "                if previousupvalue == 1:\n",
    "                    rooms = rooms\n",
    "                else:\n",
    "                    rooms += 1\n",
    "            else:\n",
    "                rooms = rooms\n",
    "            y += 1\n",
    "        else:\n",
    "            y += 1\n",
    "    y=0\n",
    "    x+=1\n",
    "print(rooms)"
   ]
  }
 ],
 "metadata": {
  "kernelspec": {
   "display_name": "Python 3 (ipykernel)",
   "language": "python",
   "name": "python3"
  },
  "language_info": {
   "codemirror_mode": {
    "name": "ipython",
    "version": 3
   },
   "file_extension": ".py",
   "mimetype": "text/x-python",
   "name": "python",
   "nbconvert_exporter": "python",
   "pygments_lexer": "ipython3",
   "version": "3.9.12"
  }
 },
 "nbformat": 4,
 "nbformat_minor": 5
}
